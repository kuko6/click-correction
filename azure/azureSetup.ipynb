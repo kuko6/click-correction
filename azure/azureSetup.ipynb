{
 "cells": [
  {
   "cell_type": "code",
   "execution_count": 1,
   "metadata": {
    "collapsed": true
   },
   "outputs": [
    {
     "name": "stdout",
     "output_type": "stream",
     "text": [
      "Azure ML SDK Version:  1.53.0\n"
     ]
    }
   ],
   "source": [
    "import os\n",
    "import azureml.core\n",
    "from azureml.core import Workspace\n",
    "from azureml.core import Experiment\n",
    "from azureml.core.environment import Environment\n",
    "from azureml.core import ScriptRunConfig\n",
    "from azureml.core import Dataset\n",
    "from azureml.data.datapath import DataPath\n",
    "from azureml.core.authentication import InteractiveLoginAuthentication\n",
    "from azureml.core.conda_dependencies import CondaDependencies\n",
    "\n",
    "print(\"Azure ML SDK Version: \", azureml.core.VERSION)"
   ]
  },
  {
   "cell_type": "markdown",
   "metadata": {
    "collapsed": false
   },
   "source": [
    "### Prihlasenie do azure"
   ]
  },
  {
   "cell_type": "code",
   "execution_count": 2,
   "metadata": {
    "collapsed": false,
    "pycharm": {
     "name": "#%%\n"
    }
   },
   "outputs": [
    {
     "name": "stdout",
     "output_type": "stream",
     "text": [
      "ns-fiit-2023-2-workspace\twesteurope\tns-fiit-povinec\n"
     ]
    }
   ],
   "source": [
    "ws = Workspace.from_config('config_ns.json', auth=InteractiveLoginAuthentication())\n",
    "print(ws.name, ws.location, ws.resource_group, sep='\\t')"
   ]
  },
  {
   "cell_type": "markdown",
   "metadata": {
    "collapsed": false
   },
   "source": [
    "### Nacitanie datasetu"
   ]
  },
  {
   "cell_type": "code",
   "execution_count": 5,
   "metadata": {},
   "outputs": [
    {
     "data": {
      "text/plain": [
       "{}"
      ]
     },
     "execution_count": 5,
     "metadata": {},
     "output_type": "execute_result"
    }
   ],
   "source": [
    "Dataset.get_all(workspace=ws)"
   ]
  },
  {
   "cell_type": "code",
   "execution_count": 11,
   "metadata": {
    "collapsed": false,
    "pycharm": {
     "name": "#%%\n"
    }
   },
   "outputs": [
    {
     "name": "stderr",
     "output_type": "stream",
     "text": [
      "Request failed with: 404 Client Error: Data version VSDataset:None (dataContainerName:version) not found. for url: https://westeurope.experiments.azureml.net/data/v1.0/subscriptions/885fd293-53ed-4e5a-8767-d6aaddbc1be5/resourceGroups/ns-fiit-povinec/providers/Microsoft.MachineLearningServices/workspaces/ns-fiit-2023-2-workspace/dataversion/VSDataset/versions/None?includeSavedDatasets=true\n",
      "Tried to retrieve v2 data asset but could not find v2 data assetregistered with name \"VSDataset\" (version: None) in the workspace.\n",
      "2023-11-07 11:30:35.079251 | ActivityCompleted: Activity=get_by_name, HowEnded=Failure, Duration=1180.5 [ms], Info = {'activity_id': '6d55f110-fc87-40e9-889d-a9be983ae9b0', 'activity_name': 'get_by_name', 'activity_type': 'PublicApi', 'app_name': 'dataset', 'source': 'azureml.dataset', 'version': '1.53.0', 'dataprepVersion': '', 'sparkVersion': '', 'subscription': '', 'run_id': '', 'resource_group': '', 'workspace_name': '', 'experiment_id': '', 'location': '', 'completionStatus': 'Failure', 'durationMs': 2403.73}, Exception=UserErrorException; UserErrorException:\n",
      "\tMessage: Cannot find dataset registered with name \"VSDataset\" (version: None) in the workspace.\n",
      "\tInnerException None\n",
      "\tErrorResponse \n",
      "{\n",
      "    \"error\": {\n",
      "        \"code\": \"UserError\",\n",
      "        \"message\": \"Cannot find dataset registered with name \\\"VSDataset\\\" (version: None) in the workspace.\"\n",
      "    }\n",
      "}\n"
     ]
    },
    {
     "ename": "UserErrorException",
     "evalue": "UserErrorException:\n\tMessage: Cannot find dataset registered with name \"VSDataset\" (version: None) in the workspace.\n\tInnerException None\n\tErrorResponse \n{\n    \"error\": {\n        \"code\": \"UserError\",\n        \"message\": \"Cannot find dataset registered with name \\\"VSDataset\\\" (version: None) in the workspace.\"\n    }\n}",
     "output_type": "error",
     "traceback": [
      "\u001b[0;31m---------------------------------------------------------------------------\u001b[0m",
      "\u001b[0;31mUserErrorException\u001b[0m                        Traceback (most recent call last)",
      "\u001b[1;32m/Users/kuko/Developer/School/DP/azure/azureSetup.ipynb Cell 5\u001b[0m line \u001b[0;36m1\n\u001b[0;32m----> <a href='vscode-notebook-cell:/Users/kuko/Developer/School/DP/azure/azureSetup.ipynb#W4sZmlsZQ%3D%3D?line=0'>1</a>\u001b[0m dataset \u001b[39m=\u001b[39m Dataset\u001b[39m.\u001b[39mget_by_name(workspace\u001b[39m=\u001b[39mws, name\u001b[39m=\u001b[39m\u001b[39m'\u001b[39m\u001b[39mVSDataset\u001b[39m\u001b[39m'\u001b[39m)\n",
      "File \u001b[0;32m~/miniconda3/envs/dp/lib/python3.11/site-packages/azureml/data/_loggerfactory.py:132\u001b[0m, in \u001b[0;36mtrack.<locals>.monitor.<locals>.wrapper\u001b[0;34m(*args, **kwargs)\u001b[0m\n\u001b[1;32m    130\u001b[0m \u001b[39mwith\u001b[39;00m _LoggerFactory\u001b[39m.\u001b[39mtrack_activity(logger, func\u001b[39m.\u001b[39m\u001b[39m__name__\u001b[39m, activity_type, custom_dimensions) \u001b[39mas\u001b[39;00m al:\n\u001b[1;32m    131\u001b[0m     \u001b[39mtry\u001b[39;00m:\n\u001b[0;32m--> 132\u001b[0m         \u001b[39mreturn\u001b[39;00m func(\u001b[39m*\u001b[39margs, \u001b[39m*\u001b[39m\u001b[39m*\u001b[39mkwargs)\n\u001b[1;32m    133\u001b[0m     \u001b[39mexcept\u001b[39;00m \u001b[39mException\u001b[39;00m \u001b[39mas\u001b[39;00m e:\n\u001b[1;32m    134\u001b[0m         \u001b[39mif\u001b[39;00m \u001b[39mhasattr\u001b[39m(al, \u001b[39m'\u001b[39m\u001b[39mactivity_info\u001b[39m\u001b[39m'\u001b[39m) \u001b[39mand\u001b[39;00m \u001b[39mhasattr\u001b[39m(e, \u001b[39m'\u001b[39m\u001b[39merror_code\u001b[39m\u001b[39m'\u001b[39m):\n",
      "File \u001b[0;32m~/miniconda3/envs/dp/lib/python3.11/site-packages/azureml/data/abstract_dataset.py:93\u001b[0m, in \u001b[0;36mAbstractDataset.get_by_name\u001b[0;34m(workspace, name, version)\u001b[0m\n\u001b[1;32m     79\u001b[0m \u001b[39m@staticmethod\u001b[39m\n\u001b[1;32m     80\u001b[0m \u001b[39m@track\u001b[39m(_get_logger, activity_type\u001b[39m=\u001b[39m_PUBLIC_API)\n\u001b[1;32m     81\u001b[0m \u001b[39mdef\u001b[39;00m \u001b[39mget_by_name\u001b[39m(workspace, name, version\u001b[39m=\u001b[39m\u001b[39m'\u001b[39m\u001b[39mlatest\u001b[39m\u001b[39m'\u001b[39m):\n\u001b[1;32m     82\u001b[0m \u001b[39m    \u001b[39m\u001b[39m\"\"\"Get a registered Dataset from workspace by its registration name.\u001b[39;00m\n\u001b[1;32m     83\u001b[0m \n\u001b[1;32m     84\u001b[0m \u001b[39m    :param workspace: The existing AzureML workspace in which the Dataset was registered.\u001b[39;00m\n\u001b[0;32m   (...)\u001b[0m\n\u001b[1;32m     91\u001b[0m \u001b[39m    :rtype: typing.Union[azureml.data.TabularDataset, azureml.data.FileDataset]\u001b[39;00m\n\u001b[1;32m     92\u001b[0m \u001b[39m    \"\"\"\u001b[39;00m\n\u001b[0;32m---> 93\u001b[0m     dataset \u001b[39m=\u001b[39m AbstractDataset\u001b[39m.\u001b[39m_get_by_name(workspace, name, version)\n\u001b[1;32m     94\u001b[0m     AbstractDataset\u001b[39m.\u001b[39m_track_lineage([dataset])\n\u001b[1;32m     95\u001b[0m     \u001b[39mreturn\u001b[39;00m dataset\n",
      "File \u001b[0;32m~/miniconda3/envs/dp/lib/python3.11/site-packages/azureml/data/abstract_dataset.py:896\u001b[0m, in \u001b[0;36mAbstractDataset._get_by_name\u001b[0;34m(workspace, name, version)\u001b[0m\n\u001b[1;32m    892\u001b[0m     \u001b[39melse\u001b[39;00m:\n\u001b[1;32m    893\u001b[0m         _get_logger()\u001b[39m.\u001b[39mwarning(\u001b[39m'\u001b[39m\u001b[39mTried to retrieve v2 data asset but could not find v2 data asset\u001b[39m\u001b[39m'\u001b[39m\n\u001b[1;32m    894\u001b[0m                               \u001b[39m'\u001b[39m\u001b[39mregistered with name \u001b[39m\u001b[39m\"\u001b[39m\u001b[39m{}\u001b[39;00m\u001b[39m\"\u001b[39m\u001b[39m{}\u001b[39;00m\u001b[39m in the workspace.\u001b[39m\u001b[39m'\u001b[39m\n\u001b[1;32m    895\u001b[0m                               \u001b[39m.\u001b[39mformat(name, \u001b[39m'\u001b[39m\u001b[39m'\u001b[39m \u001b[39mif\u001b[39;00m version \u001b[39m==\u001b[39m \u001b[39m'\u001b[39m\u001b[39mlatest\u001b[39m\u001b[39m'\u001b[39m \u001b[39melse\u001b[39;00m \u001b[39m'\u001b[39m\u001b[39m (version: \u001b[39m\u001b[39m{}\u001b[39;00m\u001b[39m)\u001b[39m\u001b[39m'\u001b[39m\u001b[39m.\u001b[39mformat(version)))\n\u001b[0;32m--> 896\u001b[0m     \u001b[39mraise\u001b[39;00m result\n\u001b[1;32m    898\u001b[0m dataset \u001b[39m=\u001b[39m _dto_to_dataset(workspace, result)\n\u001b[1;32m    899\u001b[0m warn_deprecated_blocks(dataset)\n",
      "\u001b[0;31mUserErrorException\u001b[0m: UserErrorException:\n\tMessage: Cannot find dataset registered with name \"VSDataset\" (version: None) in the workspace.\n\tInnerException None\n\tErrorResponse \n{\n    \"error\": {\n        \"code\": \"UserError\",\n        \"message\": \"Cannot find dataset registered with name \\\"VSDataset\\\" (version: None) in the workspace.\"\n    }\n}"
     ]
    }
   ],
   "source": [
    "dataset = Dataset.get_by_name(workspace=ws, name='VSDataset')"
   ]
  },
  {
   "cell_type": "markdown",
   "metadata": {
    "collapsed": false
   },
   "source": [
    "## Experimenty"
   ]
  },
  {
   "cell_type": "markdown",
   "metadata": {},
   "source": [
    "### Training"
   ]
  },
  {
   "cell_type": "code",
   "execution_count": 13,
   "metadata": {
    "collapsed": false,
    "pycharm": {
     "name": "#%%\n"
    }
   },
   "outputs": [],
   "source": [
    "config = ScriptRunConfig(source_directory='../src/',\n",
    "                         script='train.py',\n",
    "                         arguments=[\n",
    "                           #'--wandb', \"a68b79c89593d1f8c50631508f2e618f3ba7ccf3\",\n",
    "                            '--data_path', dataset.as_mount()], # This is important how to mount dataset from DataStore\n",
    "                         compute_target='K80x1-xpovinec') # Compute target is your created compute cluster\n"
   ]
  },
  {
   "cell_type": "markdown",
   "metadata": {},
   "source": [
    "### Evaluation - normal"
   ]
  },
  {
   "cell_type": "code",
   "execution_count": null,
   "metadata": {},
   "outputs": [],
   "source": [
    "config = ScriptRunConfig(source_directory='../src/',\n",
    "                          script='evaluation/evaluation_hypo.py',\n",
    "                          arguments=[\n",
    "                              '--wandb', \"a68b79c89593d1f8c50631508f2e618f3ba7ccf3\",\n",
    "                              '--data_path', dataset.as_mount(),\n",
    "                              '--model_path', 'models/',\n",
    "                              '--channels', 3\n",
    "                          ], \n",
    "                         compute_target='K80x1-xpovinec') # Compute target is your created compute cluster\n"
   ]
  },
  {
   "cell_type": "markdown",
   "metadata": {},
   "source": [
    "### Evaluation - separate"
   ]
  },
  {
   "cell_type": "code",
   "execution_count": 33,
   "metadata": {},
   "outputs": [],
   "source": [
    "config = ScriptRunConfig(source_directory='../src/',\n",
    "                          script='evaluation/evaluation_separate.py',\n",
    "                          arguments=[\n",
    "                              '--wandb', \"a68b79c89593d1f8c50631508f2e618f3ba7ccf3\",\n",
    "                              '--data_path', dataset.as_mount(),\n",
    "                              '--model_path', 'models/separate/2ch',\n",
    "                              '--channels', 2\n",
    "                          ], \n",
    "                         compute_target='K80x1-xpovinec') # Compute target is your created compute cluster\n"
   ]
  },
  {
   "cell_type": "markdown",
   "metadata": {},
   "source": [
    "### Setting the experiment"
   ]
  },
  {
   "cell_type": "code",
   "execution_count": 14,
   "metadata": {
    "collapsed": false,
    "pycharm": {
     "name": "#%%\n"
    }
   },
   "outputs": [],
   "source": [
    "experiment = Experiment(workspace=ws, name='xpovinec-test')"
   ]
  },
  {
   "cell_type": "markdown",
   "metadata": {
    "collapsed": false
   },
   "source": [
    "### Nastavenie env"
   ]
  },
  {
   "cell_type": "code",
   "execution_count": null,
   "metadata": {
    "collapsed": false,
    "pycharm": {
     "name": "#%%\n"
    }
   },
   "outputs": [],
   "source": [
    "# toto vypise vsetky env\n",
    "for i,key in enumerate(ws.environments.keys()):\n",
    "    print(f\"{i}.\",key)"
   ]
  },
  {
   "cell_type": "code",
   "execution_count": null,
   "metadata": {
    "collapsed": false,
    "pycharm": {
     "name": "#%%\n"
    }
   },
   "outputs": [],
   "source": [
    "ws.environments"
   ]
  },
  {
   "cell_type": "code",
   "execution_count": 19,
   "metadata": {
    "collapsed": false,
    "pycharm": {
     "name": "#%%\n"
    }
   },
   "outputs": [],
   "source": [
    "# vytvorenie noveho env\n",
    "conda = CondaDependencies()\n",
    "\n",
    "# add channels\n",
    "#conda.add_channel('pytorch')\n",
    "\n",
    "# add conda packages\n",
    "conda.add_conda_package('pip=20.2.4')\n",
    "conda.add_conda_package('python=3.8')\n",
    "\n",
    "# add pip packages\n",
    "conda.add_pip_package('keras~=2.6.0')\n",
    "#conda.add_pip_package('Keras-Preprocessing~=2.8.0')\n",
    "conda.add_pip_package('matplotlib~=3.5.1')\n",
    "conda.add_pip_package('nibabel~=3.2.2')\n",
    "conda.add_pip_package('numpy~=1.21.3')\n",
    "conda.add_pip_package('pandas~=1.4.1')\n",
    "conda.add_pip_package('scikit-learn~=1.0.2')\n",
    "conda.add_pip_package('scipy~=1.7.0')\n",
    "conda.add_pip_package('tensorflow-gpu~=2.7.0')\n",
    "conda.add_pip_package('azureml-core~=1.39.0')\n",
    "conda.add_pip_package('opencv-python~=4.5.5.64')\n",
    "conda.add_pip_package('opencv-python-headless~=4.5.5.64')\n",
    "conda.add_pip_package('scikit-image')\n",
    "conda.add_pip_package('segmentation-models-3D')\n",
    "\n",
    "# create environment\n",
    "env = Environment('xpovinec-env')\n",
    "env.python.conda_dependencies = conda\n",
    "env.save_to_directory('../', overwrite=True)"
   ]
  },
  {
   "cell_type": "code",
   "execution_count": null,
   "metadata": {
    "collapsed": false,
    "pycharm": {
     "name": "#%%\n"
    }
   },
   "outputs": [],
   "source": [
    "env"
   ]
  },
  {
   "cell_type": "code",
   "execution_count": 62,
   "metadata": {
    "collapsed": false,
    "pycharm": {
     "name": "#%%\n"
    }
   },
   "outputs": [],
   "source": [
    "# vytvorenie noveho env z requirements.txt\n",
    "#env = Environment.from_pip_requirements(name='xpovinec-env', file_path='../requirements.txt')"
   ]
  },
  {
   "cell_type": "code",
   "execution_count": null,
   "metadata": {
    "collapsed": false,
    "pycharm": {
     "name": "#%%\n"
    }
   },
   "outputs": [],
   "source": [
    "# pridanie na azure, ked zmenim nejaky package tak sa updatne\n",
    "env.register(workspace=ws)"
   ]
  },
  {
   "cell_type": "code",
   "execution_count": 18,
   "metadata": {
    "collapsed": false,
    "pycharm": {
     "name": "#%%\n"
    }
   },
   "outputs": [
    {
     "data": {
      "text/plain": [
       "<azureml.core.runconfig.DockerConfiguration at 0x10f71b400>"
      ]
     },
     "execution_count": 18,
     "metadata": {},
     "output_type": "execute_result"
    }
   ],
   "source": [
    "# nieco s dockerom, neviem ci to treba davat vzdy\n",
    "azureml.core.runconfig.DockerConfiguration(use_docker=True)"
   ]
  },
  {
   "cell_type": "code",
   "execution_count": 15,
   "metadata": {
    "collapsed": false,
    "pycharm": {
     "name": "#%%\n"
    }
   },
   "outputs": [],
   "source": [
    "# vyber env\n",
    "env = Environment.get(workspace=ws, name='xpovinec-env')\n",
    "#env"
   ]
  },
  {
   "cell_type": "code",
   "execution_count": 16,
   "metadata": {
    "collapsed": false,
    "pycharm": {
     "name": "#%%\n"
    }
   },
   "outputs": [],
   "source": [
    "# nastavenie env pre ten experiment\n",
    "config.run_config.environment = env"
   ]
  },
  {
   "cell_type": "markdown",
   "metadata": {
    "collapsed": false
   },
   "source": [
    "### Spustenie experimentu"
   ]
  },
  {
   "cell_type": "code",
   "execution_count": 17,
   "metadata": {
    "collapsed": false,
    "pycharm": {
     "name": "#%%\n"
    }
   },
   "outputs": [],
   "source": [
    "run = experiment.submit(config)"
   ]
  },
  {
   "cell_type": "code",
   "execution_count": 10,
   "metadata": {
    "collapsed": false,
    "pycharm": {
     "name": "#%%\n"
    }
   },
   "outputs": [
    {
     "name": "stdout",
     "output_type": "stream",
     "text": [
      "https://ml.azure.com/runs/xpovinec-test_1651557556_0e831090?wsid=/subscriptions/bc82dccd-f19d-42cb-9ce3-0d5df33ef086/resourcegroups/a0047-STUFIIT-ML01/workspaces/a0047stufiitml01&tid=5dbf1add-202a-4b8d-815b-bf0fb024e033\n"
     ]
    }
   ],
   "source": [
    "# toto zisti, kde bezi a vrati to stranku\n",
    "aml_url = run.get_portal_url()\n",
    "print(aml_url)"
   ]
  }
 ],
 "metadata": {
  "interpreter": {
   "hash": "04da102b6dfb60b3cb39dbac3d9937db8cf5bdab3e3adac525a224a969535512"
  },
  "kernelspec": {
   "display_name": "Python 3.9.10 ('base')",
   "language": "python",
   "name": "python3"
  },
  "language_info": {
   "codemirror_mode": {
    "name": "ipython",
    "version": 3
   },
   "file_extension": ".py",
   "mimetype": "text/x-python",
   "name": "python",
   "nbconvert_exporter": "python",
   "pygments_lexer": "ipython3",
   "version": "3.11.4"
  }
 },
 "nbformat": 4,
 "nbformat_minor": 0
}
