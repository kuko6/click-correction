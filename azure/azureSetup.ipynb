version https://git-lfs.github.com/spec/v1
oid sha256:c134d12b4ca648047cff7e2c19f1aba26d1940d39b557c8bb35013c9ce20b83f
size 6858
