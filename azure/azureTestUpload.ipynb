{
 "cells": [
  {
   "cell_type": "code",
   "execution_count": 2,
   "metadata": {
    "collapsed": true
   },
   "outputs": [],
   "source": [
    "from azureml.core import Workspace\n",
    "from azureml.core.authentication import InteractiveLoginAuthentication\n",
    "from azureml.core.datastore import Datastore\n",
    "import json"
   ]
  },
  {
   "cell_type": "code",
   "execution_count": 3,
   "metadata": {
    "collapsed": false,
    "pycharm": {
     "name": "#%%\n"
    }
   },
   "outputs": [
    {
     "name": "stdout",
     "output_type": "stream",
     "text": [
      "azureSetup.ipynb     azureUpload.ipynb    config_ns.json\n",
      "azureTestSetup.ipynb azureml_dep.txt      config_siemens.json\n"
     ]
    }
   ],
   "source": [
    "!ls"
   ]
  },
  {
   "cell_type": "code",
   "execution_count": 4,
   "metadata": {
    "collapsed": false,
    "pycharm": {
     "name": "#%%\n"
    }
   },
   "outputs": [],
   "source": [
    "with open('../azure/config_ns.json', 'r') as f:\n",
    "    conf = json.load(f)\n",
    "    ws = Workspace.from_config(path='config_ns.json', auth=InteractiveLoginAuthentication(tenant_id=conf['directory_id']))"
   ]
  },
  {
   "cell_type": "code",
   "execution_count": 5,
   "metadata": {
    "collapsed": false,
    "pycharm": {
     "name": "#%%\n"
    }
   },
   "outputs": [],
   "source": [
    "datastore = Datastore.get_default(ws)"
   ]
  },
  {
   "cell_type": "code",
   "execution_count": 7,
   "metadata": {
    "collapsed": false,
    "pycharm": {
     "name": "#%%\n"
    }
   },
   "outputs": [
    {
     "data": {
      "text/plain": [
       "'/Users/kuko/Developer/School/DP/azure'"
      ]
     },
     "execution_count": 7,
     "metadata": {},
     "output_type": "execute_result"
    }
   ],
   "source": [
    "import os\n",
    "import glob\n",
    "os.getcwd()"
   ]
  },
  {
   "cell_type": "code",
   "execution_count": 41,
   "metadata": {
    "collapsed": false,
    "pycharm": {
     "name": "#%%\n"
    }
   },
   "outputs": [
    {
     "name": "stdout",
     "output_type": "stream",
     "text": [
      "Number of folders: 10\n",
      "Number of files: 691\n"
     ]
    },
    {
     "data": {
      "text/plain": [
       "['../data/all/README.md',\n",
       " '../data/all/VS-1-30/vs_gk_1/vs_gk_seg_refT2.nii.gz',\n",
       " '../data/all/VS-1-30/vs_gk_1/vs_gk_t1_refT2.nii.gz',\n",
       " '../data/all/VS-1-30/vs_gk_1/vs_gk_t2_refT2.nii.gz',\n",
       " '../data/all/VS-1-30/vs_gk_10/vs_gk_seg_refT2.nii.gz']"
      ]
     },
     "execution_count": 41,
     "metadata": {},
     "output_type": "execute_result"
    }
   ],
   "source": [
    "# data_path = '../data/decompressed/'\n",
    "data_path = '../data/all/'\n",
    "print('Number of folders:', len(os.listdir(data_path)))\n",
    "\n",
    "# files = sorted(glob.glob(os.path.join(data_path, 'vs_*/*.nii')))\n",
    "files = sorted(glob.glob(os.path.join(data_path, 'VS-*-*/vs_*/*.nii.gz')))\n",
    "files.insert(0, '../data/all/README.md')\n",
    "print('Number of files:', len(files))\n",
    "files[:5]"
   ]
  },
  {
   "cell_type": "code",
   "execution_count": 40,
   "metadata": {
    "collapsed": false,
    "pycharm": {
     "name": "#%%\n"
    }
   },
   "outputs": [
    {
     "name": "stdout",
     "output_type": "stream",
     "text": [
      "Uploading an estimated of 10 files\n",
      "Uploading ../data/all/README.md\n",
      "Uploaded ../data/all/README.md, 1 files out of an estimated total of 10\n",
      "Uploading ../data/all/VS-1-30/vs_gk_1/vs_gk_t1_refT2.nii.gz\n",
      "Uploaded ../data/all/VS-1-30/vs_gk_1/vs_gk_t1_refT2.nii.gz, 2 files out of an estimated total of 10\n",
      "Uploading ../data/all/VS-1-30/vs_gk_16/vs_gk_t1_refT2.nii.gz\n",
      "Uploaded ../data/all/VS-1-30/vs_gk_16/vs_gk_t1_refT2.nii.gz, 3 files out of an estimated total of 10\n",
      "Uploading ../data/all/VS-1-30/vs_gk_12/vs_gk_t1_refT2.nii.gz\n",
      "Uploaded ../data/all/VS-1-30/vs_gk_12/vs_gk_t1_refT2.nii.gz, 4 files out of an estimated total of 10\n",
      "Uploading ../data/all/VS-1-30/vs_gk_17/vs_gk_t1_refT2.nii.gz\n",
      "Uploaded ../data/all/VS-1-30/vs_gk_17/vs_gk_t1_refT2.nii.gz, 5 files out of an estimated total of 10\n",
      "Uploading ../data/all/VS-1-30/vs_gk_15/vs_gk_t1_refT2.nii.gz\n",
      "Uploaded ../data/all/VS-1-30/vs_gk_15/vs_gk_t1_refT2.nii.gz, 6 files out of an estimated total of 10\n",
      "Uploading ../data/all/VS-1-30/vs_gk_13/vs_gk_t1_refT2.nii.gz\n",
      "Uploaded ../data/all/VS-1-30/vs_gk_13/vs_gk_t1_refT2.nii.gz, 7 files out of an estimated total of 10\n",
      "Uploading ../data/all/VS-1-30/vs_gk_14/vs_gk_t1_refT2.nii.gz\n",
      "Uploaded ../data/all/VS-1-30/vs_gk_14/vs_gk_t1_refT2.nii.gz, 8 files out of an estimated total of 10\n",
      "Uploading ../data/all/VS-1-30/vs_gk_10/vs_gk_t1_refT2.nii.gz\n",
      "Uploaded ../data/all/VS-1-30/vs_gk_10/vs_gk_t1_refT2.nii.gz, 9 files out of an estimated total of 10\n",
      "Uploading ../data/all/VS-1-30/vs_gk_11/vs_gk_t1_refT2.nii.gz\n",
      "Uploaded ../data/all/VS-1-30/vs_gk_11/vs_gk_t1_refT2.nii.gz, 10 files out of an estimated total of 10\n",
      "Uploaded 10 files\n"
     ]
    },
    {
     "data": {
      "text/plain": [
       "$AZUREML_DATAREFERENCE_ebf568ca866740368a93cd05d1fde869"
      ]
     },
     "execution_count": 40,
     "metadata": {},
     "output_type": "execute_result"
    }
   ],
   "source": [
    "# datastore.upload_files(files=files[:31], relative_root='../data/decompressed/', target_path='datasets/VS/')\n",
    "datastore.upload_files(files=files[:10], relative_root='../data/all/', target_path='datasets/VS-dataset/')"
   ]
  }
 ],
 "metadata": {
  "kernelspec": {
   "display_name": "Python 3",
   "language": "python",
   "name": "python3"
  },
  "language_info": {
   "codemirror_mode": {
    "name": "ipython",
    "version": 3
   },
   "file_extension": ".py",
   "mimetype": "text/x-python",
   "name": "python",
   "nbconvert_exporter": "python",
   "pygments_lexer": "ipython3",
   "version": "3.11.6"
  }
 },
 "nbformat": 4,
 "nbformat_minor": 0
}
