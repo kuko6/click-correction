{
 "cells": [
  {
   "cell_type": "code",
   "execution_count": 1,
   "metadata": {
    "collapsed": true
   },
   "outputs": [],
   "source": [
    "from azureml.core import Workspace\n",
    "from azureml.core.authentication import InteractiveLoginAuthentication\n",
    "from azureml.core.datastore import Datastore"
   ]
  },
  {
   "cell_type": "code",
   "execution_count": 2,
   "metadata": {
    "collapsed": false,
    "pycharm": {
     "name": "#%%\n"
    }
   },
   "outputs": [
    {
     "name": "stdout",
     "output_type": "stream",
     "text": [
      "azureSetup.ipynb     azureUpload.ipynb    config_ns.json\n",
      "azureTestSetup.ipynb azureml_dep.txt      config_siemens.json\n"
     ]
    }
   ],
   "source": [
    "!ls"
   ]
  },
  {
   "cell_type": "code",
   "execution_count": 3,
   "metadata": {
    "collapsed": false,
    "pycharm": {
     "name": "#%%\n"
    }
   },
   "outputs": [],
   "source": [
    "ws = Workspace.from_config(path='config_ns.json', auth=InteractiveLoginAuthentication())"
   ]
  },
  {
   "cell_type": "code",
   "execution_count": 4,
   "metadata": {
    "collapsed": false,
    "pycharm": {
     "name": "#%%\n"
    }
   },
   "outputs": [],
   "source": [
    "datastore = Datastore.get_default(ws)"
   ]
  },
  {
   "cell_type": "code",
   "execution_count": 5,
   "metadata": {
    "collapsed": false,
    "pycharm": {
     "name": "#%%\n"
    }
   },
   "outputs": [
    {
     "data": {
      "text/plain": [
       "{\n",
       "  \"name\": \"workspaceblobstore\",\n",
       "  \"container_name\": \"azureml-blobstore-607aa1ed-d5f9-48c0-8bcc-ce4f36452985\",\n",
       "  \"account_name\": \"nsfiit20232storage\",\n",
       "  \"protocol\": \"https\",\n",
       "  \"endpoint\": \"core.windows.net\"\n",
       "}"
      ]
     },
     "execution_count": 5,
     "metadata": {},
     "output_type": "execute_result"
    }
   ],
   "source": [
    "datastore"
   ]
  },
  {
   "cell_type": "code",
   "execution_count": 6,
   "metadata": {
    "collapsed": false,
    "pycharm": {
     "name": "#%%\n"
    }
   },
   "outputs": [
    {
     "name": "stdout",
     "output_type": "stream",
     "text": [
      "/Users/kuko/Developer/School/DP/azure\n",
      "['vs_gk_8', 'vs_gk_1', 'vs_gk_6', 'vs_gk_7', 'vs_gk_9', '.DS_Store', 'vs_gk_87', 'vs_gk_27', 'vs_gk_20', 'vs_gk_29', 'vs_gk_16', 'vs_gk_11', 'vs_gk_10', 'vs_gk_28', 'vs_gk_17', 'vs_gk_21', 'vs_gk_19', 'vs_gk_26', 'vs_gk_5', 'vs_gk_2', 'vs_gk_3', 'vs_gk_4', 'vs_gk_30', 'vs_gk_23', 'vs_gk_24', 'vs_gk_12', 'vs_gk_15', 'vs_gk_14', 'vs_gk_13', 'vs_gk_25', 'vs_gk_22']\n"
     ]
    }
   ],
   "source": [
    "import os\n",
    "import glob\n",
    "print(os.getcwd())\n",
    "print(os.listdir('../data/training/'))"
   ]
  },
  {
   "cell_type": "code",
   "execution_count": 7,
   "metadata": {
    "collapsed": false,
    "pycharm": {
     "name": "#%%\n"
    }
   },
   "outputs": [
    {
     "name": "stdout",
     "output_type": "stream",
     "text": [
      "Number of folders: 31\n",
      "Number of files: 90\n"
     ]
    },
    {
     "data": {
      "text/plain": [
       "['../data/training/vs_gk_1/vs_gk_seg_refT2.nii.gz',\n",
       " '../data/training/vs_gk_1/vs_gk_t1_refT2.nii.gz',\n",
       " '../data/training/vs_gk_1/vs_gk_t2_refT2.nii.gz',\n",
       " '../data/training/vs_gk_10/vs_gk_seg_refT2.nii.gz',\n",
       " '../data/training/vs_gk_10/vs_gk_t1_refT2.nii.gz',\n",
       " '../data/training/vs_gk_10/vs_gk_t2_refT2.nii.gz']"
      ]
     },
     "execution_count": 7,
     "metadata": {},
     "output_type": "execute_result"
    }
   ],
   "source": [
    "data_path = '../data/training/'\n",
    "print('Number of folders:', len(os.listdir(data_path)))\n",
    "\n",
    "files = sorted(glob.glob(os.path.join(data_path, 'vs_*/*.nii.gz')))\n",
    "print('Number of files:', len(files))\n",
    "files[:6]"
   ]
  },
  {
   "cell_type": "code",
   "execution_count": 10,
   "metadata": {
    "collapsed": false,
    "pycharm": {
     "name": "#%%\n"
    }
   },
   "outputs": [
    {
     "name": "stdout",
     "output_type": "stream",
     "text": [
      "Uploading an estimated of 6 files\n",
      "Target already exists. Skipping upload for datasets/VS/vs_gk_11/vs_gk_seg_refT2.nii.gz\n",
      "Target already exists. Skipping upload for datasets/VS/vs_gk_11/vs_gk_t1_refT2.nii.gz\n",
      "Target already exists. Skipping upload for datasets/VS/vs_gk_11/vs_gk_t2_refT2.nii.gz\n",
      "Target already exists. Skipping upload for datasets/VS/vs_gk_12/vs_gk_seg_refT2.nii.gz\n",
      "Uploading ../data/training/vs_gk_12/vs_gk_t2_refT2.nii.gz\n",
      "Uploaded ../data/training/vs_gk_12/vs_gk_t2_refT2.nii.gz, 1 files out of an estimated total of 2\n",
      "Uploading ../data/training/vs_gk_12/vs_gk_t1_refT2.nii.gz\n",
      "Uploaded ../data/training/vs_gk_12/vs_gk_t1_refT2.nii.gz, 2 files out of an estimated total of 2\n",
      "Uploaded 2 files\n"
     ]
    },
    {
     "data": {
      "text/plain": [
       "$AZUREML_DATAREFERENCE_073cb49cad264fc4bc21816945714ae9"
      ]
     },
     "execution_count": 10,
     "metadata": {},
     "output_type": "execute_result"
    }
   ],
   "source": [
    "datastore.upload_files(files=files[6:12], relative_root='../data/training/', target_path='datasets/VS/')"
   ]
  },
  {
   "cell_type": "code",
   "execution_count": null,
   "metadata": {
    "collapsed": false,
    "pycharm": {
     "name": "#%%\n"
    }
   },
   "outputs": [],
   "source": []
  }
 ],
 "metadata": {
  "kernelspec": {
   "display_name": "Python 3",
   "language": "python",
   "name": "python3"
  },
  "language_info": {
   "codemirror_mode": {
    "name": "ipython",
    "version": 3
   },
   "file_extension": ".py",
   "mimetype": "text/x-python",
   "name": "python",
   "nbconvert_exporter": "python",
   "pygments_lexer": "ipython3",
   "version": "3.8.18"
  }
 },
 "nbformat": 4,
 "nbformat_minor": 0
}
