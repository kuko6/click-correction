{
 "cells": [
  {
   "cell_type": "code",
   "execution_count": 1,
   "metadata": {
    "collapsed": true
   },
   "outputs": [
    {
     "name": "stderr",
     "output_type": "stream",
     "text": [
      "Failure while loading azureml_run_type_providers. Failed to load entrypoint azureml.scriptrun = azureml.core.script_run:ScriptRun._from_run_dto with exception (azure-mgmt-authorization 4.0.0 (/Users/kuko/miniconda3/envs/dp/lib/python3.11/site-packages), Requirement.parse('azure-mgmt-authorization<4,>=0.40.0')).\n"
     ]
    }
   ],
   "source": [
    "from azureml.core import Workspace\n",
    "from azureml.core.authentication import InteractiveLoginAuthentication\n",
    "from azureml.core.datastore import Datastore\n",
    "from azureml.core.authentication import AzureCliAuthentication\n",
    "\n",
    "import json"
   ]
  },
  {
   "cell_type": "code",
   "execution_count": 2,
   "metadata": {
    "collapsed": false,
    "pycharm": {
     "name": "#%%\n"
    }
   },
   "outputs": [
    {
     "name": "stdout",
     "output_type": "stream",
     "text": [
      "azureSetup.ipynb      azureUpload.ipynb     config_siemens.json\n",
      "azureTestSetup.ipynb  azureml_dep.txt\n",
      "azureTestUpload.ipynb config_ns.json\n"
     ]
    }
   ],
   "source": [
    "!ls"
   ]
  },
  {
   "cell_type": "code",
   "execution_count": 3,
   "metadata": {},
   "outputs": [],
   "source": [
    "with open('../azure/config_siemens.json', 'r') as f:\n",
    "    conf = json.load(f)\n",
    "    ws = Workspace.from_config(path='config_siemens.json', auth=InteractiveLoginAuthentication(tenant_id=conf['directory_id']))"
   ]
  },
  {
   "cell_type": "code",
   "execution_count": 4,
   "metadata": {},
   "outputs": [
    {
     "name": "stdout",
     "output_type": "stream",
     "text": [
      "a0047stufiitml01\twesteurope\ta0047-STUFIIT-ML01\n"
     ]
    }
   ],
   "source": [
    "print(ws.name, ws.location, ws.resource_group, sep='\\t')"
   ]
  },
  {
   "cell_type": "code",
   "execution_count": null,
   "metadata": {
    "collapsed": false,
    "pycharm": {
     "name": "#%%\n"
    }
   },
   "outputs": [],
   "source": [
    "datastore = Datastore.get_default(ws)\n",
    "datastore"
   ]
  },
  {
   "cell_type": "code",
   "execution_count": 7,
   "metadata": {
    "collapsed": false,
    "pycharm": {
     "name": "#%%\n"
    }
   },
   "outputs": [
    {
     "data": {
      "text/plain": [
       "'/Users/kuko/Developer/School/DP/azure'"
      ]
     },
     "execution_count": 7,
     "metadata": {},
     "output_type": "execute_result"
    }
   ],
   "source": [
    "import os\n",
    "import glob\n",
    "\n",
    "os.getcwd()"
   ]
  },
  {
   "cell_type": "code",
   "execution_count": 144,
   "metadata": {},
   "outputs": [
    {
     "name": "stdout",
     "output_type": "stream",
     "text": [
      "Number of folders: 11\n"
     ]
    },
    {
     "data": {
      "text/plain": [
       "['../data/all/VS-239-250/',\n",
       " '../data/all/VS-31-61/',\n",
       " '../data/all/VS-176-205/',\n",
       " '../data/all/VS-113-143/',\n",
       " '../data/all/VS-62-91/',\n",
       " '../data/all/VS-206-238/',\n",
       " '../data/all/VS-1-30/',\n",
       " '../data/all/VS-144-175/',\n",
       " '../data/all/VS-92-112/']"
      ]
     },
     "execution_count": 144,
     "metadata": {},
     "output_type": "execute_result"
    }
   ],
   "source": [
    "# data_path = '../data/decompressed/'\n",
    "data_path = '../data/all/'\n",
    "print('Number of folders:', len(os.listdir(data_path)))\n",
    "glob.glob(os.path.join(data_path, 'VS-*-*/'))"
   ]
  },
  {
   "cell_type": "code",
   "execution_count": 145,
   "metadata": {
    "collapsed": false,
    "pycharm": {
     "name": "#%%\n"
    }
   },
   "outputs": [
    {
     "name": "stdout",
     "output_type": "stream",
     "text": [
      "Number of files: 36\n"
     ]
    },
    {
     "data": {
      "text/plain": [
       "['../data/all/VS-239-250/vs_gk_239/vs_gk_seg_refT2.nii.gz',\n",
       " '../data/all/VS-239-250/vs_gk_239/vs_gk_t1_refT2.nii.gz',\n",
       " '../data/all/VS-239-250/vs_gk_239/vs_gk_t2_refT2.nii.gz',\n",
       " '../data/all/VS-239-250/vs_gk_240/vs_gk_seg_refT2.nii.gz',\n",
       " '../data/all/VS-239-250/vs_gk_240/vs_gk_t1_refT2.nii.gz',\n",
       " '../data/all/VS-239-250/vs_gk_240/vs_gk_t2_refT2.nii.gz',\n",
       " '../data/all/VS-239-250/vs_gk_241/vs_gk_seg_refT2.nii.gz',\n",
       " '../data/all/VS-239-250/vs_gk_241/vs_gk_t1_refT2.nii.gz',\n",
       " '../data/all/VS-239-250/vs_gk_241/vs_gk_t2_refT2.nii.gz',\n",
       " '../data/all/VS-239-250/vs_gk_242/vs_gk_seg_refT2.nii.gz',\n",
       " '../data/all/VS-239-250/vs_gk_242/vs_gk_t1_refT2.nii.gz',\n",
       " '../data/all/VS-239-250/vs_gk_242/vs_gk_t2_refT2.nii.gz',\n",
       " '../data/all/VS-239-250/vs_gk_243/vs_gk_seg_refT2.nii.gz',\n",
       " '../data/all/VS-239-250/vs_gk_243/vs_gk_t1_refT2.nii.gz',\n",
       " '../data/all/VS-239-250/vs_gk_243/vs_gk_t2_refT2.nii.gz',\n",
       " '../data/all/VS-239-250/vs_gk_244/vs_gk_seg_refT2.nii.gz',\n",
       " '../data/all/VS-239-250/vs_gk_244/vs_gk_t1_refT2.nii.gz',\n",
       " '../data/all/VS-239-250/vs_gk_244/vs_gk_t2_refT2.nii.gz',\n",
       " '../data/all/VS-239-250/vs_gk_245/vs_gk_seg_refT2.nii.gz',\n",
       " '../data/all/VS-239-250/vs_gk_245/vs_gk_t1_refT2.nii.gz',\n",
       " '../data/all/VS-239-250/vs_gk_245/vs_gk_t2_refT2.nii.gz',\n",
       " '../data/all/VS-239-250/vs_gk_246/vs_gk_seg_refT2.nii.gz',\n",
       " '../data/all/VS-239-250/vs_gk_246/vs_gk_t1_refT2.nii.gz',\n",
       " '../data/all/VS-239-250/vs_gk_246/vs_gk_t2_refT2.nii.gz',\n",
       " '../data/all/VS-239-250/vs_gk_247/vs_gk_seg_refT2.nii.gz',\n",
       " '../data/all/VS-239-250/vs_gk_247/vs_gk_t1_refT2.nii.gz',\n",
       " '../data/all/VS-239-250/vs_gk_247/vs_gk_t2_refT2.nii.gz',\n",
       " '../data/all/VS-239-250/vs_gk_248/vs_gk_seg_refT2.nii.gz',\n",
       " '../data/all/VS-239-250/vs_gk_248/vs_gk_t1_refT2.nii.gz',\n",
       " '../data/all/VS-239-250/vs_gk_248/vs_gk_t2_refT2.nii.gz']"
      ]
     },
     "execution_count": 145,
     "metadata": {},
     "output_type": "execute_result"
    }
   ],
   "source": [
    "# files = sorted(glob.glob(os.path.join(data_path, 'vs_*/*.nii')))\n",
    "# files = sorted(glob.glob(os.path.join(data_path, 'VS-*-*/vs_*/*.nii.gz')))\n",
    "# files.insert(0, '../data/all/README.md')\n",
    "files = sorted(glob.glob(os.path.join(data_path, 'VS-239-250/vs_*/*.nii.gz')))\n",
    "print('Number of files:', len(files))\n",
    "files[:30]"
   ]
  },
  {
   "cell_type": "code",
   "execution_count": 142,
   "metadata": {},
   "outputs": [
    {
     "data": {
      "text/plain": [
       "0"
      ]
     },
     "execution_count": 142,
     "metadata": {},
     "output_type": "execute_result"
    }
   ],
   "source": [
    "failed = [\n",
    "]\n",
    "\n",
    "len(failed)"
   ]
  },
  {
   "cell_type": "code",
   "execution_count": 151,
   "metadata": {
    "collapsed": false,
    "pycharm": {
     "name": "#%%\n"
    }
   },
   "outputs": [
    {
     "name": "stdout",
     "output_type": "stream",
     "text": [
      "Uploading an estimated of 36 files\n",
      "Target already exists. Skipping upload for datasets/VS-dataset/VS-239-250/vs_gk_239/vs_gk_seg_refT2.nii.gz\n",
      "Target already exists. Skipping upload for datasets/VS-dataset/VS-239-250/vs_gk_239/vs_gk_t1_refT2.nii.gz\n",
      "Target already exists. Skipping upload for datasets/VS-dataset/VS-239-250/vs_gk_239/vs_gk_t2_refT2.nii.gz\n",
      "Target already exists. Skipping upload for datasets/VS-dataset/VS-239-250/vs_gk_240/vs_gk_seg_refT2.nii.gz\n",
      "Target already exists. Skipping upload for datasets/VS-dataset/VS-239-250/vs_gk_240/vs_gk_t1_refT2.nii.gz\n",
      "Target already exists. Skipping upload for datasets/VS-dataset/VS-239-250/vs_gk_240/vs_gk_t2_refT2.nii.gz\n",
      "Target already exists. Skipping upload for datasets/VS-dataset/VS-239-250/vs_gk_241/vs_gk_seg_refT2.nii.gz\n",
      "Target already exists. Skipping upload for datasets/VS-dataset/VS-239-250/vs_gk_241/vs_gk_t1_refT2.nii.gz\n",
      "Target already exists. Skipping upload for datasets/VS-dataset/VS-239-250/vs_gk_241/vs_gk_t2_refT2.nii.gz\n",
      "Target already exists. Skipping upload for datasets/VS-dataset/VS-239-250/vs_gk_242/vs_gk_seg_refT2.nii.gz\n",
      "Target already exists. Skipping upload for datasets/VS-dataset/VS-239-250/vs_gk_242/vs_gk_t1_refT2.nii.gz\n",
      "Target already exists. Skipping upload for datasets/VS-dataset/VS-239-250/vs_gk_242/vs_gk_t2_refT2.nii.gz\n",
      "Target already exists. Skipping upload for datasets/VS-dataset/VS-239-250/vs_gk_243/vs_gk_seg_refT2.nii.gz\n",
      "Target already exists. Skipping upload for datasets/VS-dataset/VS-239-250/vs_gk_243/vs_gk_t1_refT2.nii.gz\n",
      "Target already exists. Skipping upload for datasets/VS-dataset/VS-239-250/vs_gk_243/vs_gk_t2_refT2.nii.gz\n",
      "Target already exists. Skipping upload for datasets/VS-dataset/VS-239-250/vs_gk_244/vs_gk_seg_refT2.nii.gz\n",
      "Target already exists. Skipping upload for datasets/VS-dataset/VS-239-250/vs_gk_244/vs_gk_t1_refT2.nii.gz\n",
      "Target already exists. Skipping upload for datasets/VS-dataset/VS-239-250/vs_gk_244/vs_gk_t2_refT2.nii.gz\n",
      "Target already exists. Skipping upload for datasets/VS-dataset/VS-239-250/vs_gk_245/vs_gk_seg_refT2.nii.gz\n",
      "Target already exists. Skipping upload for datasets/VS-dataset/VS-239-250/vs_gk_245/vs_gk_t1_refT2.nii.gz\n",
      "Target already exists. Skipping upload for datasets/VS-dataset/VS-239-250/vs_gk_245/vs_gk_t2_refT2.nii.gz\n",
      "Target already exists. Skipping upload for datasets/VS-dataset/VS-239-250/vs_gk_246/vs_gk_seg_refT2.nii.gz\n",
      "Target already exists. Skipping upload for datasets/VS-dataset/VS-239-250/vs_gk_246/vs_gk_t1_refT2.nii.gz\n",
      "Target already exists. Skipping upload for datasets/VS-dataset/VS-239-250/vs_gk_246/vs_gk_t2_refT2.nii.gz\n",
      "Target already exists. Skipping upload for datasets/VS-dataset/VS-239-250/vs_gk_247/vs_gk_seg_refT2.nii.gz\n",
      "Target already exists. Skipping upload for datasets/VS-dataset/VS-239-250/vs_gk_247/vs_gk_t1_refT2.nii.gz\n",
      "Target already exists. Skipping upload for datasets/VS-dataset/VS-239-250/vs_gk_247/vs_gk_t2_refT2.nii.gz\n",
      "Target already exists. Skipping upload for datasets/VS-dataset/VS-239-250/vs_gk_248/vs_gk_seg_refT2.nii.gz\n",
      "Target already exists. Skipping upload for datasets/VS-dataset/VS-239-250/vs_gk_248/vs_gk_t1_refT2.nii.gz\n",
      "Target already exists. Skipping upload for datasets/VS-dataset/VS-239-250/vs_gk_248/vs_gk_t2_refT2.nii.gz\n",
      "Target already exists. Skipping upload for datasets/VS-dataset/VS-239-250/vs_gk_249/vs_gk_seg_refT2.nii.gz\n",
      "Target already exists. Skipping upload for datasets/VS-dataset/VS-239-250/vs_gk_249/vs_gk_t1_refT2.nii.gz\n",
      "Target already exists. Skipping upload for datasets/VS-dataset/VS-239-250/vs_gk_249/vs_gk_t2_refT2.nii.gz\n",
      "Target already exists. Skipping upload for datasets/VS-dataset/VS-239-250/vs_gk_250/vs_gk_seg_refT2.nii.gz\n",
      "Target already exists. Skipping upload for datasets/VS-dataset/VS-239-250/vs_gk_250/vs_gk_t1_refT2.nii.gz\n",
      "Target already exists. Skipping upload for datasets/VS-dataset/VS-239-250/vs_gk_250/vs_gk_t2_refT2.nii.gz\n",
      "Uploaded 0 files\n"
     ]
    }
   ],
   "source": [
    "if len(failed) > 0:\n",
    "    datastore.upload_files(files=failed, relative_root='../data/all/', target_path='datasets/VS-dataset/')\n",
    "else:\n",
    "    datastore.upload_files(files=files, relative_root='../data/all/', target_path='datasets/VS-dataset/')"
   ]
  },
  {
   "cell_type": "code",
   "execution_count": null,
   "metadata": {},
   "outputs": [],
   "source": []
  }
 ],
 "metadata": {
  "kernelspec": {
   "display_name": "Python 3",
   "language": "python",
   "name": "python3"
  },
  "language_info": {
   "codemirror_mode": {
    "name": "ipython",
    "version": 3
   },
   "file_extension": ".py",
   "mimetype": "text/x-python",
   "name": "python",
   "nbconvert_exporter": "python",
   "pygments_lexer": "ipython3",
   "version": "3.11.6"
  }
 },
 "nbformat": 4,
 "nbformat_minor": 0
}
