{
 "cells": [
  {
   "cell_type": "code",
   "execution_count": 1,
   "metadata": {
    "collapsed": true
   },
   "outputs": [
    {
     "name": "stderr",
     "output_type": "stream",
     "text": [
      "Failure while loading azureml_run_type_providers. Failed to load entrypoint azureml.scriptrun = azureml.core.script_run:ScriptRun._from_run_dto with exception (azure-mgmt-authorization 4.0.0 (/Users/kuko/miniconda3/envs/dp/lib/python3.11/site-packages), Requirement.parse('azure-mgmt-authorization<4,>=0.40.0')).\n"
     ]
    }
   ],
   "source": [
    "from azureml.core import Workspace\n",
    "from azureml.core.authentication import InteractiveLoginAuthentication\n",
    "from azureml.core.datastore import Datastore\n",
    "from azureml.core.authentication import AzureCliAuthentication\n",
    "\n",
    "import json"
   ]
  },
  {
   "cell_type": "code",
   "execution_count": 11,
   "metadata": {
    "collapsed": false,
    "pycharm": {
     "name": "#%%\n"
    }
   },
   "outputs": [
    {
     "name": "stdout",
     "output_type": "stream",
     "text": [
      "azureSetup.ipynb      azureUpload.ipynb     config_siemens.json\n",
      "azureTestSetup.ipynb  azureml_dep.txt\n",
      "azureTestUpload.ipynb config_ns.json\n"
     ]
    }
   ],
   "source": [
    "!ls"
   ]
  },
  {
   "cell_type": "code",
   "execution_count": 3,
   "metadata": {},
   "outputs": [],
   "source": [
    "with open('../azure/config_siemens.json', 'r') as f:\n",
    "    conf = json.load(f)\n",
    "    ws = Workspace.from_config(path='config_siemens.json', auth=InteractiveLoginAuthentication(tenant_id=conf['directory_id']))"
   ]
  },
  {
   "cell_type": "code",
   "execution_count": 20,
   "metadata": {},
   "outputs": [
    {
     "name": "stdout",
     "output_type": "stream",
     "text": [
      "a0047stufiitml01\twesteurope\ta0047-STUFIIT-ML01\n"
     ]
    }
   ],
   "source": [
    "print(ws.name, ws.location, ws.resource_group, sep='\\t')"
   ]
  },
  {
   "cell_type": "code",
   "execution_count": null,
   "metadata": {
    "collapsed": false,
    "pycharm": {
     "name": "#%%\n"
    }
   },
   "outputs": [],
   "source": [
    "datastore = Datastore.get_default(ws)\n",
    "# datastore"
   ]
  },
  {
   "cell_type": "code",
   "execution_count": 6,
   "metadata": {
    "collapsed": false,
    "pycharm": {
     "name": "#%%\n"
    }
   },
   "outputs": [
    {
     "data": {
      "text/plain": [
       "'/Users/kuko/Developer/School/DP/azure'"
      ]
     },
     "execution_count": 6,
     "metadata": {},
     "output_type": "execute_result"
    }
   ],
   "source": [
    "import os\n",
    "import glob\n",
    "\n",
    "os.getcwd()"
   ]
  },
  {
   "cell_type": "code",
   "execution_count": 27,
   "metadata": {
    "collapsed": false,
    "pycharm": {
     "name": "#%%\n"
    }
   },
   "outputs": [
    {
     "name": "stdout",
     "output_type": "stream",
     "text": [
      "Number of folders: 10\n",
      "Number of files: 691\n"
     ]
    },
    {
     "data": {
      "text/plain": [
       "['../data/all/README.md',\n",
       " '../data/all/VS-1-30/vs_gk_1/vs_gk_seg_refT2.nii.gz',\n",
       " '../data/all/VS-1-30/vs_gk_1/vs_gk_t1_refT2.nii.gz',\n",
       " '../data/all/VS-1-30/vs_gk_1/vs_gk_t2_refT2.nii.gz',\n",
       " '../data/all/VS-1-30/vs_gk_10/vs_gk_seg_refT2.nii.gz',\n",
       " '../data/all/VS-1-30/vs_gk_10/vs_gk_t1_refT2.nii.gz',\n",
       " '../data/all/VS-1-30/vs_gk_10/vs_gk_t2_refT2.nii.gz',\n",
       " '../data/all/VS-1-30/vs_gk_11/vs_gk_seg_refT2.nii.gz',\n",
       " '../data/all/VS-1-30/vs_gk_11/vs_gk_t1_refT2.nii.gz',\n",
       " '../data/all/VS-1-30/vs_gk_11/vs_gk_t2_refT2.nii.gz',\n",
       " '../data/all/VS-1-30/vs_gk_12/vs_gk_seg_refT2.nii.gz',\n",
       " '../data/all/VS-1-30/vs_gk_12/vs_gk_t1_refT2.nii.gz',\n",
       " '../data/all/VS-1-30/vs_gk_12/vs_gk_t2_refT2.nii.gz',\n",
       " '../data/all/VS-1-30/vs_gk_13/vs_gk_seg_refT2.nii.gz',\n",
       " '../data/all/VS-1-30/vs_gk_13/vs_gk_t1_refT2.nii.gz',\n",
       " '../data/all/VS-1-30/vs_gk_13/vs_gk_t2_refT2.nii.gz',\n",
       " '../data/all/VS-1-30/vs_gk_14/vs_gk_seg_refT2.nii.gz',\n",
       " '../data/all/VS-1-30/vs_gk_14/vs_gk_t1_refT2.nii.gz',\n",
       " '../data/all/VS-1-30/vs_gk_14/vs_gk_t2_refT2.nii.gz',\n",
       " '../data/all/VS-1-30/vs_gk_15/vs_gk_seg_refT2.nii.gz',\n",
       " '../data/all/VS-1-30/vs_gk_15/vs_gk_t1_refT2.nii.gz',\n",
       " '../data/all/VS-1-30/vs_gk_15/vs_gk_t2_refT2.nii.gz',\n",
       " '../data/all/VS-1-30/vs_gk_16/vs_gk_seg_refT2.nii.gz',\n",
       " '../data/all/VS-1-30/vs_gk_16/vs_gk_t1_refT2.nii.gz',\n",
       " '../data/all/VS-1-30/vs_gk_16/vs_gk_t2_refT2.nii.gz',\n",
       " '../data/all/VS-1-30/vs_gk_17/vs_gk_seg_refT2.nii.gz',\n",
       " '../data/all/VS-1-30/vs_gk_17/vs_gk_t1_refT2.nii.gz',\n",
       " '../data/all/VS-1-30/vs_gk_17/vs_gk_t2_refT2.nii.gz',\n",
       " '../data/all/VS-1-30/vs_gk_18/vs_gk_seg_refT2.nii.gz',\n",
       " '../data/all/VS-1-30/vs_gk_18/vs_gk_t1_refT2.nii.gz',\n",
       " '../data/all/VS-1-30/vs_gk_18/vs_gk_t2_refT2.nii.gz',\n",
       " '../data/all/VS-1-30/vs_gk_19/vs_gk_seg_refT2.nii.gz',\n",
       " '../data/all/VS-1-30/vs_gk_19/vs_gk_t1_refT2.nii.gz',\n",
       " '../data/all/VS-1-30/vs_gk_19/vs_gk_t2_refT2.nii.gz',\n",
       " '../data/all/VS-1-30/vs_gk_2/vs_gk_seg_refT2.nii.gz',\n",
       " '../data/all/VS-1-30/vs_gk_2/vs_gk_t1_refT2.nii.gz',\n",
       " '../data/all/VS-1-30/vs_gk_2/vs_gk_t2_refT2.nii.gz',\n",
       " '../data/all/VS-1-30/vs_gk_20/vs_gk_seg_refT2.nii.gz',\n",
       " '../data/all/VS-1-30/vs_gk_20/vs_gk_t1_refT2.nii.gz',\n",
       " '../data/all/VS-1-30/vs_gk_20/vs_gk_t2_refT2.nii.gz',\n",
       " '../data/all/VS-1-30/vs_gk_21/vs_gk_seg_refT2.nii.gz',\n",
       " '../data/all/VS-1-30/vs_gk_21/vs_gk_t1_refT2.nii.gz',\n",
       " '../data/all/VS-1-30/vs_gk_21/vs_gk_t2_refT2.nii.gz',\n",
       " '../data/all/VS-1-30/vs_gk_22/vs_gk_seg_refT2.nii.gz',\n",
       " '../data/all/VS-1-30/vs_gk_22/vs_gk_t1_refT2.nii.gz',\n",
       " '../data/all/VS-1-30/vs_gk_22/vs_gk_t2_refT2.nii.gz',\n",
       " '../data/all/VS-1-30/vs_gk_23/vs_gk_seg_refT2.nii.gz',\n",
       " '../data/all/VS-1-30/vs_gk_23/vs_gk_t1_refT2.nii.gz',\n",
       " '../data/all/VS-1-30/vs_gk_23/vs_gk_t2_refT2.nii.gz',\n",
       " '../data/all/VS-1-30/vs_gk_24/vs_gk_seg_refT2.nii.gz',\n",
       " '../data/all/VS-1-30/vs_gk_24/vs_gk_t1_refT2.nii.gz',\n",
       " '../data/all/VS-1-30/vs_gk_24/vs_gk_t2_refT2.nii.gz',\n",
       " '../data/all/VS-1-30/vs_gk_25/vs_gk_seg_refT2.nii.gz',\n",
       " '../data/all/VS-1-30/vs_gk_25/vs_gk_t1_refT2.nii.gz',\n",
       " '../data/all/VS-1-30/vs_gk_25/vs_gk_t2_refT2.nii.gz',\n",
       " '../data/all/VS-1-30/vs_gk_26/vs_gk_seg_refT2.nii.gz',\n",
       " '../data/all/VS-1-30/vs_gk_26/vs_gk_t1_refT2.nii.gz',\n",
       " '../data/all/VS-1-30/vs_gk_26/vs_gk_t2_refT2.nii.gz',\n",
       " '../data/all/VS-1-30/vs_gk_27/vs_gk_seg_refT2.nii.gz',\n",
       " '../data/all/VS-1-30/vs_gk_27/vs_gk_t1_refT2.nii.gz',\n",
       " '../data/all/VS-1-30/vs_gk_27/vs_gk_t2_refT2.nii.gz',\n",
       " '../data/all/VS-1-30/vs_gk_28/vs_gk_seg_refT2.nii.gz',\n",
       " '../data/all/VS-1-30/vs_gk_28/vs_gk_t1_refT2.nii.gz',\n",
       " '../data/all/VS-1-30/vs_gk_28/vs_gk_t2_refT2.nii.gz',\n",
       " '../data/all/VS-1-30/vs_gk_29/vs_gk_seg_refT2.nii.gz',\n",
       " '../data/all/VS-1-30/vs_gk_29/vs_gk_t1_refT2.nii.gz',\n",
       " '../data/all/VS-1-30/vs_gk_29/vs_gk_t2_refT2.nii.gz',\n",
       " '../data/all/VS-1-30/vs_gk_3/vs_gk_seg_refT2.nii.gz',\n",
       " '../data/all/VS-1-30/vs_gk_3/vs_gk_t1_refT2.nii.gz',\n",
       " '../data/all/VS-1-30/vs_gk_3/vs_gk_t2_refT2.nii.gz',\n",
       " '../data/all/VS-1-30/vs_gk_30/vs_gk_seg_refT2.nii.gz',\n",
       " '../data/all/VS-1-30/vs_gk_30/vs_gk_t1_refT2.nii.gz',\n",
       " '../data/all/VS-1-30/vs_gk_30/vs_gk_t2_refT2.nii.gz',\n",
       " '../data/all/VS-1-30/vs_gk_4/vs_gk_seg_refT2.nii.gz',\n",
       " '../data/all/VS-1-30/vs_gk_4/vs_gk_t1_refT2.nii.gz',\n",
       " '../data/all/VS-1-30/vs_gk_4/vs_gk_t2_refT2.nii.gz',\n",
       " '../data/all/VS-1-30/vs_gk_5/vs_gk_seg_refT2.nii.gz',\n",
       " '../data/all/VS-1-30/vs_gk_5/vs_gk_t1_refT2.nii.gz',\n",
       " '../data/all/VS-1-30/vs_gk_5/vs_gk_t2_refT2.nii.gz',\n",
       " '../data/all/VS-1-30/vs_gk_6/vs_gk_seg_refT2.nii.gz',\n",
       " '../data/all/VS-1-30/vs_gk_6/vs_gk_t1_refT2.nii.gz',\n",
       " '../data/all/VS-1-30/vs_gk_6/vs_gk_t2_refT2.nii.gz',\n",
       " '../data/all/VS-1-30/vs_gk_7/vs_gk_seg_refT2.nii.gz',\n",
       " '../data/all/VS-1-30/vs_gk_7/vs_gk_t1_refT2.nii.gz',\n",
       " '../data/all/VS-1-30/vs_gk_7/vs_gk_t2_refT2.nii.gz',\n",
       " '../data/all/VS-1-30/vs_gk_8/vs_gk_seg_refT2.nii.gz',\n",
       " '../data/all/VS-1-30/vs_gk_8/vs_gk_t1_refT2.nii.gz',\n",
       " '../data/all/VS-1-30/vs_gk_8/vs_gk_t2_refT2.nii.gz',\n",
       " '../data/all/VS-1-30/vs_gk_9/vs_gk_seg_refT2.nii.gz',\n",
       " '../data/all/VS-1-30/vs_gk_9/vs_gk_t1_refT2.nii.gz',\n",
       " '../data/all/VS-1-30/vs_gk_9/vs_gk_t2_refT2.nii.gz']"
      ]
     },
     "execution_count": 27,
     "metadata": {},
     "output_type": "execute_result"
    }
   ],
   "source": [
    "# data_path = '../data/decompressed/'\n",
    "data_path = '../data/all/'\n",
    "print('Number of folders:', len(os.listdir(data_path)))\n",
    "\n",
    "# files = sorted(glob.glob(os.path.join(data_path, 'vs_*/*.nii')))\n",
    "files = sorted(glob.glob(os.path.join(data_path, 'VS-*-*/vs_*/*.nii.gz')))\n",
    "files.insert(0, '../data/all/README.md')\n",
    "print('Number of files:', len(files))\n",
    "files[:91]"
   ]
  },
  {
   "cell_type": "code",
   "execution_count": 33,
   "metadata": {},
   "outputs": [
    {
     "data": {
      "text/plain": [
       "['../data/all/VS-1-30/vs_gk_14/vs_gk_t2_refT2.nii.gz']"
      ]
     },
     "execution_count": 33,
     "metadata": {},
     "output_type": "execute_result"
    }
   ],
   "source": [
    "failed = [\n",
    "    '../data/all/VS-1-30/vs_gk_14/vs_gk_t2_refT2.nii.gz',\n",
    "]\n",
    "\n",
    "failed"
   ]
  },
  {
   "cell_type": "code",
   "execution_count": 34,
   "metadata": {
    "collapsed": false,
    "pycharm": {
     "name": "#%%\n"
    }
   },
   "outputs": [
    {
     "name": "stdout",
     "output_type": "stream",
     "text": [
      "Uploading an estimated of 1 files\n",
      "Uploading ../data/all/VS-1-30/vs_gk_14/vs_gk_t2_refT2.nii.gz\n",
      "Uploaded ../data/all/VS-1-30/vs_gk_14/vs_gk_t2_refT2.nii.gz, 1 files out of an estimated total of 1\n",
      "Uploaded 1 files\n"
     ]
    },
    {
     "data": {
      "text/plain": [
       "$AZUREML_DATAREFERENCE_ecf4452cd56345c48046b6250ee940f4"
      ]
     },
     "execution_count": 34,
     "metadata": {},
     "output_type": "execute_result"
    }
   ],
   "source": [
    "# datastore.upload_files(files=files[:91], relative_root='../data/all/', target_path='datasets/VS-dataset/')\n",
    "datastore.upload_files(files=failed, relative_root='../data/all/', target_path='datasets/VS-dataset/')"
   ]
  },
  {
   "cell_type": "code",
   "execution_count": null,
   "metadata": {},
   "outputs": [],
   "source": []
  }
 ],
 "metadata": {
  "kernelspec": {
   "display_name": "Python 3",
   "language": "python",
   "name": "python3"
  },
  "language_info": {
   "codemirror_mode": {
    "name": "ipython",
    "version": 3
   },
   "file_extension": ".py",
   "mimetype": "text/x-python",
   "name": "python",
   "nbconvert_exporter": "python",
   "pygments_lexer": "ipython3",
   "version": "3.11.6"
  }
 },
 "nbformat": 4,
 "nbformat_minor": 0
}
