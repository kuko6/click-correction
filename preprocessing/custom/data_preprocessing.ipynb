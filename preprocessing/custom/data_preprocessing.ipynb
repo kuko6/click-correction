{
 "cells": [
  {
   "cell_type": "code",
   "execution_count": 5,
   "metadata": {},
   "outputs": [],
   "source": [
    "import os\n",
    "import shutil"
   ]
  },
  {
   "cell_type": "markdown",
   "metadata": {},
   "source": [
    "## Add contours and registration matrices into the scan folders"
   ]
  },
  {
   "cell_type": "code",
   "execution_count": null,
   "metadata": {},
   "outputs": [],
   "source": [
    "scans_path = 'data/VS-dicom/'\n",
    "contours_path = 'data/contours/'\n",
    "matrices_path = 'data/registration_matrices/'\n",
    "\n",
    "scans = os.listdir(scans_path)\n",
    "\n",
    "for scan in scans:\n",
    "    if scan == '.DS_Store': continue\n",
    "    #print(scan, os.listdir(contours_path + scan), os.listdir(matrices_path + scan))\n",
    "    shutil.copy(contours_path + scan + '/contours.json', scans_path + scan)\n",
    "    shutil.copy(matrices_path + scan + '/' + os.listdir(matrices_path + scan)[0], scans_path + scan)"
   ]
  },
  {
   "cell_type": "markdown",
   "metadata": {},
   "source": [
    "## Run data converter"
   ]
  },
  {
   "cell_type": "code",
   "execution_count": 46,
   "metadata": {},
   "outputs": [
    {
     "name": "stdout",
     "output_type": "stream",
     "text": [
      "['.DS_Store', 'vs_gk_10_t1', 'vs_gk_10_t2', 'vs_gk_11_t1', 'vs_gk_11_t2', 'vs_gk_12_t1', 'vs_gk_12_t2', 'vs_gk_13_t1', 'vs_gk_13_t2', 'vs_gk_14_t1', 'vs_gk_14_t2', 'vs_gk_15_t1', 'vs_gk_15_t2', 'vs_gk_16_t1', 'vs_gk_16_t2', 'vs_gk_17_t1', 'vs_gk_17_t2', 'vs_gk_18_t1', 'vs_gk_18_t2', 'vs_gk_19_t1', 'vs_gk_19_t2', 'vs_gk_1_t1', 'vs_gk_1_t2', 'vs_gk_20_t1', 'vs_gk_20_t2', 'vs_gk_21_t1', 'vs_gk_21_t2', 'vs_gk_22_t1', 'vs_gk_22_t2', 'vs_gk_23_t1', 'vs_gk_23_t2', 'vs_gk_24_t1', 'vs_gk_24_t2', 'vs_gk_25_t1', 'vs_gk_25_t2', 'vs_gk_26_t1', 'vs_gk_26_t2', 'vs_gk_27_t1', 'vs_gk_27_t2', 'vs_gk_28_t1', 'vs_gk_28_t2', 'vs_gk_29_t1', 'vs_gk_29_t2', 'vs_gk_2_t1', 'vs_gk_2_t2', 'vs_gk_30_t1', 'vs_gk_30_t2', 'vs_gk_3_t1', 'vs_gk_3_t2', 'vs_gk_4_t1', 'vs_gk_4_t2', 'vs_gk_5_t1', 'vs_gk_5_t2', 'vs_gk_6_t1', 'vs_gk_6_t2', 'vs_gk_7_t1', 'vs_gk_7_t2', 'vs_gk_8_t1', 'vs_gk_8_t2', 'vs_gk_9_t1', 'vs_gk_9_t2']\n"
     ]
    }
   ],
   "source": [
    "source = 'data/VS-dicom/'\n",
    "target = 'data/VS-dicom-tmp/'\n",
    "scans = sorted(os.listdir(source))\n",
    "print(scans)"
   ]
  },
  {
   "cell_type": "code",
   "execution_count": 45,
   "metadata": {},
   "outputs": [],
   "source": [
    "i = 1\n",
    "for scan in scans:\n",
    "    if scan == '.DS_Store': continue\n",
    "    shutil.move(source + scan, target)\n",
    "    #print(source + scan, target + scan)\n",
    "    if i%2 == 0: break\n",
    "    i += 1\n"
   ]
  },
  {
   "cell_type": "code",
   "execution_count": null,
   "metadata": {},
   "outputs": [],
   "source": []
  }
 ],
 "metadata": {
  "kernelspec": {
   "display_name": "Python 3 (ipykernel)",
   "language": "python",
   "name": "python3"
  },
  "language_info": {
   "codemirror_mode": {
    "name": "ipython",
    "version": 3
   },
   "file_extension": ".py",
   "mimetype": "text/x-python",
   "name": "python",
   "nbconvert_exporter": "python",
   "pygments_lexer": "ipython3",
   "version": "3.10.9"
  },
  "vscode": {
   "interpreter": {
    "hash": "467f9dd91992df696d719054cb55cf4ae73d228a0814b1b0e6ad9a5e5edf24d4"
   }
  }
 },
 "nbformat": 4,
 "nbformat_minor": 4
}
